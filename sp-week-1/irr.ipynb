{
 "cells": [
  {
   "cell_type": "markdown",
   "id": "6c711ed4-6951-481d-81e8-de76b4344d5a",
   "metadata": {},
   "source": [
    "# Annotation Inter-Rater Reliability\n",
    "\n",
    "We are creating a span categorization model which means we have two forms of \"data\" for each annotation.\n",
    "\n",
    "* Whether there was an annotation at all\n",
    "* The start and stop of eac annotation\n",
    "\n",
    "## \"Any Annotation at All\"\n",
    "\n",
    "This can be turned into a binary annotation metric and as such we can use more standard IRR metrics.\n",
    "In this case we will be using [Fleiss Kappa](https://en.wikipedia.org/wiki/Fleiss%27_kappa).\n",
    "\n",
    "## \"Same Label on Span\"\n",
    "\n",
    "Extract the annotation label from the span and use Fleiss Kappa on the retrived data.\n",
    "\n",
    "## \"Number of Spans within Example\"\n",
    "\n",
    "Extract the number of spans from each example and use Fleiss Kappa on the retrieved data.\n",
    "\n",
    "## \"Agreement on Span Positioning\"\n",
    "\n",
    "In each case that annotators agreed a span was present within the example, compare the span start and stop.\n",
    "The most common task in which start and stop points are compared and evaluated against others is in \"text segmentation\".\n",
    "As such, we are using a text segmentation evaluation metic called [\"boundary agreement\"](https://segeval.readthedocs.io/en/latest/api/?highlight=agreement#inter-coder-agreement-coefficients)."
   ]
  },
  {
   "cell_type": "markdown",
   "id": "e3f17aa9-57b1-4087-871b-f862e0a65799",
   "metadata": {},
   "source": [
    "## Basic Data Prep"
   ]
  },
  {
   "cell_type": "code",
   "execution_count": 1,
   "id": "1aa34582-6bb0-4163-b530-8b17309fa88d",
   "metadata": {
    "tags": []
   },
   "outputs": [
    {
     "data": {
      "text/plain": [
       "((84, 10),\n",
       " Index(['text', 'meta', '_input_hash', '_task_hash', 'tokens', '_view_id',\n",
       "        'answer', '_timestamp', 'spans', 'annotator'],\n",
       "       dtype='object'))"
      ]
     },
     "execution_count": 1,
     "metadata": {},
     "output_type": "execute_result"
    }
   ],
   "source": [
    "# Import and combine all data\n",
    "import pandas as pd\n",
    "import json\n",
    "\n",
    "ANNOTATOR_TO_FILE_LUT = {\n",
    "    \"angel\": \"angel-annotated-irr-data.json\",\n",
    "    \"sarah\": \"sarah-annotated-irr-data.json\",\n",
    "    \"kelly\": \"kelly-annotated-irr-data.json\",\n",
    "}\n",
    "annotation_dfs = []\n",
    "for annotator, filename in ANNOTATOR_TO_FILE_LUT.items():\n",
    "    with open(filename) as open_f:\n",
    "        this_annotator_df = pd.DataFrame(json.load(open_f))\n",
    "        this_annotator_df[\"annotator\"] = annotator\n",
    "        annotation_dfs.append(this_annotator_df)\n",
    "\n",
    "annotations = pd.concat(annotation_dfs, ignore_index=True)\n",
    "annotations.shape, annotations.columns"
   ]
  },
  {
   "cell_type": "code",
   "execution_count": 2,
   "id": "4bb1d155-b31b-44c6-bd58-e2d545e958fe",
   "metadata": {
    "tags": []
   },
   "outputs": [
    {
     "data": {
      "text/html": [
       "<div>\n",
       "<style scoped>\n",
       "    .dataframe tbody tr th:only-of-type {\n",
       "        vertical-align: middle;\n",
       "    }\n",
       "\n",
       "    .dataframe tbody tr th {\n",
       "        vertical-align: top;\n",
       "    }\n",
       "\n",
       "    .dataframe thead th {\n",
       "        text-align: right;\n",
       "    }\n",
       "</style>\n",
       "<table border=\"1\" class=\"dataframe\">\n",
       "  <thead>\n",
       "    <tr style=\"text-align: right;\">\n",
       "      <th></th>\n",
       "      <th>text</th>\n",
       "      <th>answer</th>\n",
       "      <th>spans</th>\n",
       "      <th>annotator</th>\n",
       "      <th>muni</th>\n",
       "      <th>session_id</th>\n",
       "    </tr>\n",
       "  </thead>\n",
       "  <tbody>\n",
       "    <tr>\n",
       "      <th>0</th>\n",
       "      <td>Good morning. As you said, I'm a downtown resi...</td>\n",
       "      <td>ignore</td>\n",
       "      <td>NaN</td>\n",
       "      <td>angel</td>\n",
       "      <td>seattle</td>\n",
       "      <td>6c40d8abf3c9</td>\n",
       "    </tr>\n",
       "    <tr>\n",
       "      <th>1</th>\n",
       "      <td>Down morning. I'm chair of tree pack. It's dis...</td>\n",
       "      <td>ignore</td>\n",
       "      <td>NaN</td>\n",
       "      <td>angel</td>\n",
       "      <td>seattle</td>\n",
       "      <td>6c40d8abf3c9</td>\n",
       "    </tr>\n",
       "    <tr>\n",
       "      <th>2</th>\n",
       "      <td>So Doug and Andrew if you are out there, call ...</td>\n",
       "      <td>accept</td>\n",
       "      <td>[{'start': 107, 'end': 270, 'token_start': 25,...</td>\n",
       "      <td>angel</td>\n",
       "      <td>seattle</td>\n",
       "      <td>6c40d8abf3c9</td>\n",
       "    </tr>\n",
       "    <tr>\n",
       "      <th>3</th>\n",
       "      <td>Thank you. Hi, I just want to bring attention ...</td>\n",
       "      <td>accept</td>\n",
       "      <td>[{'start': 174, 'end': 207, 'token_start': 38,...</td>\n",
       "      <td>angel</td>\n",
       "      <td>seattle</td>\n",
       "      <td>c6bbc7ceec24</td>\n",
       "    </tr>\n",
       "    <tr>\n",
       "      <th>4</th>\n",
       "      <td>Yes, I'm here. I'm unmuted, it appears. Yes. O...</td>\n",
       "      <td>ignore</td>\n",
       "      <td>NaN</td>\n",
       "      <td>angel</td>\n",
       "      <td>seattle</td>\n",
       "      <td>c6bbc7ceec24</td>\n",
       "    </tr>\n",
       "  </tbody>\n",
       "</table>\n",
       "</div>"
      ],
      "text/plain": [
       "                                                text  answer  \\\n",
       "0  Good morning. As you said, I'm a downtown resi...  ignore   \n",
       "1  Down morning. I'm chair of tree pack. It's dis...  ignore   \n",
       "2  So Doug and Andrew if you are out there, call ...  accept   \n",
       "3  Thank you. Hi, I just want to bring attention ...  accept   \n",
       "4  Yes, I'm here. I'm unmuted, it appears. Yes. O...  ignore   \n",
       "\n",
       "                                               spans annotator     muni  \\\n",
       "0                                                NaN     angel  seattle   \n",
       "1                                                NaN     angel  seattle   \n",
       "2  [{'start': 107, 'end': 270, 'token_start': 25,...     angel  seattle   \n",
       "3  [{'start': 174, 'end': 207, 'token_start': 38,...     angel  seattle   \n",
       "4                                                NaN     angel  seattle   \n",
       "\n",
       "     session_id  \n",
       "0  6c40d8abf3c9  \n",
       "1  6c40d8abf3c9  \n",
       "2  6c40d8abf3c9  \n",
       "3  c6bbc7ceec24  \n",
       "4  c6bbc7ceec24  "
      ]
     },
     "execution_count": 2,
     "metadata": {},
     "output_type": "execute_result"
    }
   ],
   "source": [
    "# Unpack meta\n",
    "unpackaged_json = pd.json_normalize(annotations[\"meta\"])\n",
    "annotations[\"muni\"] = unpackaged_json[\"muni\"]\n",
    "annotations[\"session_id\"] = unpackaged_json[\"session_id\"]\n",
    "\n",
    "# Drop columns\n",
    "annotations = annotations[[\"text\", \"answer\", \"spans\", \"annotator\", \"muni\", \"session_id\"]]\n",
    "annotations.head()"
   ]
  },
  {
   "cell_type": "markdown",
   "id": "63f0f29f-e375-4552-b460-c5a883ee59e8",
   "metadata": {},
   "source": [
    "## Fleiss Kappa for \"Any Annotation at All\""
   ]
  },
  {
   "cell_type": "code",
   "execution_count": 3,
   "id": "57e91eb6-a43f-461c-ac2f-5c5a2fe3ac75",
   "metadata": {
    "tags": []
   },
   "outputs": [
    {
     "data": {
      "text/plain": [
       "(0.8250000000000001, 'Almost perfect agreement')"
      ]
     },
     "execution_count": 3,
     "metadata": {},
     "output_type": "execute_result"
    }
   ],
   "source": [
    "from statsmodels.stats.inter_rater import aggregate_raters, fleiss_kappa\n",
    "\n",
    "def _interpreted_score(v: float) -> str:\n",
    "        if v < 0:\n",
    "            return \"No agreement\"\n",
    "        if v < 0.2:\n",
    "            return \"Poor agreement\"\n",
    "        if v >= 0.2 and v < 0.4:\n",
    "            return \"Fair agreement\"\n",
    "        if v >= 0.4 and v < 0.6:\n",
    "            return \"Moderate agreement\"\n",
    "        if v >= 0.6 and v < 0.8:\n",
    "            return \"Substantial agreement\"\n",
    "        return \"Almost perfect agreement\"\n",
    "\n",
    "# Create new dataframe where rows are the answers and columns are each annotator\n",
    "annotator_answers = {}\n",
    "for annotator in annotations.annotator.unique():\n",
    "    this_annotator_data = annotations[annotations.annotator == annotator]\n",
    "    annotator_answers[annotator] = this_annotator_data[\"answer\"].reset_index(drop=True)\n",
    "\n",
    "annotator_answers = pd.DataFrame(annotator_answers)\n",
    "\n",
    "# Aggregate annotator answers\n",
    "agg_raters, _ = aggregate_raters(annotator_answers)\n",
    "\n",
    "# Compute statistical fleiss kappa\n",
    "any_annotation_at_all_score = fleiss_kappa(agg_raters)\n",
    "\n",
    "# Interpret and print\n",
    "any_annotation_at_all_score, _interpreted_score(any_annotation_at_all_score)"
   ]
  },
  {
   "cell_type": "markdown",
   "id": "e2e6c102-6ac1-4be1-a5af-751003fd5968",
   "metadata": {},
   "source": [
    "## Data Prep for Span Evaluation\n",
    "\n",
    "Note: we are constructing segmentation strings from the span start and stop using the [NLTK segmentation string standard](https://segeval.readthedocs.io/en/latest/api/?highlight=agreement#segeval.convert_nltk_to_masses)."
   ]
  },
  {
   "cell_type": "code",
   "execution_count": 4,
   "id": "e10a0c73-2de7-4c84-b323-0810be9bd208",
   "metadata": {
    "tags": []
   },
   "outputs": [
    {
     "data": {
      "text/html": [
       "<div>\n",
       "<style scoped>\n",
       "    .dataframe tbody tr th:only-of-type {\n",
       "        vertical-align: middle;\n",
       "    }\n",
       "\n",
       "    .dataframe tbody tr th {\n",
       "        vertical-align: top;\n",
       "    }\n",
       "\n",
       "    .dataframe thead th {\n",
       "        text-align: right;\n",
       "    }\n",
       "</style>\n",
       "<table border=\"1\" class=\"dataframe\">\n",
       "  <thead>\n",
       "    <tr style=\"text-align: right;\">\n",
       "      <th></th>\n",
       "      <th>text</th>\n",
       "      <th>answer</th>\n",
       "      <th>spans</th>\n",
       "      <th>annotator</th>\n",
       "      <th>muni</th>\n",
       "      <th>session_id</th>\n",
       "      <th>n_spans</th>\n",
       "      <th>span_label</th>\n",
       "      <th>span_segmentation</th>\n",
       "    </tr>\n",
       "  </thead>\n",
       "  <tbody>\n",
       "    <tr>\n",
       "      <th>0</th>\n",
       "      <td>Good morning. As you said, I'm a downtown resi...</td>\n",
       "      <td>ignore</td>\n",
       "      <td>NaN</td>\n",
       "      <td>angel</td>\n",
       "      <td>seattle</td>\n",
       "      <td>6c40d8abf3c9</td>\n",
       "      <td>0</td>\n",
       "      <td>None</td>\n",
       "      <td>(314,)</td>\n",
       "    </tr>\n",
       "    <tr>\n",
       "      <th>1</th>\n",
       "      <td>Down morning. I'm chair of tree pack. It's dis...</td>\n",
       "      <td>ignore</td>\n",
       "      <td>NaN</td>\n",
       "      <td>angel</td>\n",
       "      <td>seattle</td>\n",
       "      <td>6c40d8abf3c9</td>\n",
       "      <td>0</td>\n",
       "      <td>None</td>\n",
       "      <td>(423,)</td>\n",
       "    </tr>\n",
       "    <tr>\n",
       "      <th>2</th>\n",
       "      <td>So Doug and Andrew if you are out there, call ...</td>\n",
       "      <td>accept</td>\n",
       "      <td>[{'start': 107, 'end': 270, 'token_start': 25,...</td>\n",
       "      <td>angel</td>\n",
       "      <td>seattle</td>\n",
       "      <td>6c40d8abf3c9</td>\n",
       "      <td>1</td>\n",
       "      <td>PERSON-AFFLIATED-WITH-ORG</td>\n",
       "      <td>(108, 163)</td>\n",
       "    </tr>\n",
       "    <tr>\n",
       "      <th>3</th>\n",
       "      <td>Thank you. Hi, I just want to bring attention ...</td>\n",
       "      <td>accept</td>\n",
       "      <td>[{'start': 174, 'end': 207, 'token_start': 38,...</td>\n",
       "      <td>angel</td>\n",
       "      <td>seattle</td>\n",
       "      <td>c6bbc7ceec24</td>\n",
       "      <td>1</td>\n",
       "      <td>PERSON-AFFLIATED-WITH-ORG</td>\n",
       "      <td>(175, 33, 400)</td>\n",
       "    </tr>\n",
       "    <tr>\n",
       "      <th>4</th>\n",
       "      <td>Yes, I'm here. I'm unmuted, it appears. Yes. O...</td>\n",
       "      <td>ignore</td>\n",
       "      <td>NaN</td>\n",
       "      <td>angel</td>\n",
       "      <td>seattle</td>\n",
       "      <td>c6bbc7ceec24</td>\n",
       "      <td>0</td>\n",
       "      <td>None</td>\n",
       "      <td>(253,)</td>\n",
       "    </tr>\n",
       "  </tbody>\n",
       "</table>\n",
       "</div>"
      ],
      "text/plain": [
       "                                                text  answer  \\\n",
       "0  Good morning. As you said, I'm a downtown resi...  ignore   \n",
       "1  Down morning. I'm chair of tree pack. It's dis...  ignore   \n",
       "2  So Doug and Andrew if you are out there, call ...  accept   \n",
       "3  Thank you. Hi, I just want to bring attention ...  accept   \n",
       "4  Yes, I'm here. I'm unmuted, it appears. Yes. O...  ignore   \n",
       "\n",
       "                                               spans annotator     muni  \\\n",
       "0                                                NaN     angel  seattle   \n",
       "1                                                NaN     angel  seattle   \n",
       "2  [{'start': 107, 'end': 270, 'token_start': 25,...     angel  seattle   \n",
       "3  [{'start': 174, 'end': 207, 'token_start': 38,...     angel  seattle   \n",
       "4                                                NaN     angel  seattle   \n",
       "\n",
       "     session_id  n_spans                 span_label span_segmentation  \n",
       "0  6c40d8abf3c9        0                       None            (314,)  \n",
       "1  6c40d8abf3c9        0                       None            (423,)  \n",
       "2  6c40d8abf3c9        1  PERSON-AFFLIATED-WITH-ORG        (108, 163)  \n",
       "3  c6bbc7ceec24        1  PERSON-AFFLIATED-WITH-ORG    (175, 33, 400)  \n",
       "4  c6bbc7ceec24        0                       None            (253,)  "
      ]
     },
     "execution_count": 4,
     "metadata": {},
     "output_type": "execute_result"
    }
   ],
   "source": [
    "import segeval\n",
    "\n",
    "# For each row in the dataset, unpack the span content to the larger dataframe\n",
    "def unpack_span_details(row):\n",
    "    if isinstance(row[\"spans\"], list):\n",
    "        row[\"n_spans\"] = len(row[\"spans\"])\n",
    "        row[\"span_label\"] = \",\".join([span[\"label\"] for span in row[\"spans\"]])\n",
    "        start_and_stop_indices = [\n",
    "            *[span[\"start\"] for span in row[\"spans\"]],\n",
    "            *[span[\"end\"] for span in row[\"spans\"]],\n",
    "        ]\n",
    "        row[\"span_segmentation\"] = \"\".join([\"1\" if i in start_and_stop_indices else \"0\" for i in range(len(row[\"text\"]))])\n",
    "    else:\n",
    "        row[\"n_spans\"] = 0\n",
    "        row[\"span_label\"] = \"None\"\n",
    "        row[\"span_segmentation\"] = \"\".join([\"0\" for i in range(len(row[\"text\"]))])\n",
    "    \n",
    "    # Convert to segeval masses\n",
    "    row[\"span_segmentation\"] = segeval.convert_nltk_to_masses(row[\"span_segmentation\"])\n",
    "    \n",
    "    return row\n",
    "\n",
    "annotations = annotations.apply(unpack_span_details, axis=1)\n",
    "annotations.head()"
   ]
  },
  {
   "cell_type": "markdown",
   "id": "42e40122-5c14-4c94-a589-fd219fdd0c01",
   "metadata": {},
   "source": [
    "## Fleiss Kappa for \"Same Label on Span\""
   ]
  },
  {
   "cell_type": "code",
   "execution_count": 5,
   "id": "4dc89881-44ca-4fe3-9067-e3070722c8a2",
   "metadata": {
    "tags": []
   },
   "outputs": [
    {
     "data": {
      "text/plain": [
       "(0.6386233269598469, 'Substantial agreement')"
      ]
     },
     "execution_count": 5,
     "metadata": {},
     "output_type": "execute_result"
    }
   ],
   "source": [
    "# Create new dataframe where rows are the answers and columns are each annotator\n",
    "annotator_answers = {}\n",
    "for annotator in annotations.annotator.unique():\n",
    "    this_annotator_data = annotations[annotations.annotator == annotator]\n",
    "    annotator_answers[annotator] = this_annotator_data[\"span_label\"].reset_index(drop=True)\n",
    "\n",
    "annotator_answers = pd.DataFrame(annotator_answers)\n",
    "\n",
    "# Aggregate annotator answers\n",
    "agg_raters, _ = aggregate_raters(annotator_answers)\n",
    "\n",
    "# Compute statistical fleiss kappa\n",
    "any_annotation_at_all_score = fleiss_kappa(agg_raters)\n",
    "\n",
    "# Interpret and print\n",
    "any_annotation_at_all_score, _interpreted_score(any_annotation_at_all_score)"
   ]
  },
  {
   "cell_type": "markdown",
   "id": "3d657689-5821-4f7b-945d-e8aaa36f3ed8",
   "metadata": {},
   "source": [
    "## Fleiss Kappa for \"Number of Spans within Example\""
   ]
  },
  {
   "cell_type": "code",
   "execution_count": 6,
   "id": "26d1c583-0b7e-4bce-b4e8-6ebdfe980a50",
   "metadata": {
    "tags": []
   },
   "outputs": [
    {
     "data": {
      "text/plain": [
       "(0.6472705458908214, 'Substantial agreement')"
      ]
     },
     "execution_count": 6,
     "metadata": {},
     "output_type": "execute_result"
    }
   ],
   "source": [
    "# Create new dataframe where rows are the answers and columns are each annotator\n",
    "annotator_answers = {}\n",
    "for annotator in annotations.annotator.unique():\n",
    "    this_annotator_data = annotations[annotations.annotator == annotator]\n",
    "    annotator_answers[annotator] = this_annotator_data[\"n_spans\"].reset_index(drop=True)\n",
    "\n",
    "annotator_answers = pd.DataFrame(annotator_answers)\n",
    "\n",
    "# Aggregate annotator answers\n",
    "agg_raters, _ = aggregate_raters(annotator_answers)\n",
    "\n",
    "# Compute statistical fleiss kappa\n",
    "any_annotation_at_all_score = fleiss_kappa(agg_raters)\n",
    "\n",
    "# Interpret and print\n",
    "any_annotation_at_all_score, _interpreted_score(any_annotation_at_all_score)"
   ]
  },
  {
   "cell_type": "markdown",
   "id": "e6a177a6-8d46-437f-a2fa-d49337d4f692",
   "metadata": {},
   "source": [
    "## Boundary Similarity for \"Agreement on Span Positioning\""
   ]
  },
  {
   "cell_type": "code",
   "execution_count": 7,
   "id": "9d046340-bad3-46f7-a1a8-e107d8bf475f",
   "metadata": {
    "tags": []
   },
   "outputs": [
    {
     "data": {
      "text/plain": [
       "Decimal('0.7183098591549295774647887324')"
      ]
     },
     "execution_count": 7,
     "metadata": {},
     "output_type": "execute_result"
    }
   ],
   "source": [
    "# Convert the dataset to the format needed by segeval\n",
    "# https://github.com/cfournie/segmentation.evaluation/blob/master/segeval/agreement/__init__.py#L116\n",
    "# items_masses = {\n",
    "#     'item1' : {\n",
    "#         'coder1' : [5],\n",
    "#         'coder2' : [2,3],\n",
    "#         'coder2' : [1,1,3]\n",
    "#     },\n",
    "#     'item2' : {\n",
    "#         'coder1' : [8],\n",
    "#         'coder2' : [4,4],\n",
    "#         'coder2' : [2,2,4]\n",
    "#     }\n",
    "# }\n",
    "item_masses = {}\n",
    "for annotator in annotations.annotator.unique():\n",
    "    this_annotator_data = annotations[annotations.annotator == annotator]\n",
    "    for _, row in this_annotator_data.iterrows():\n",
    "        item_index = f\"{row.muni}-{row.session_id}\"\n",
    "        if item_index not in item_masses:\n",
    "            item_masses[item_index] = {}\n",
    "        \n",
    "        item_masses[item_index][annotator] = row[\"span_segmentation\"]\n",
    "\n",
    "# Compute boundary similarity\n",
    "segeval.actual_agreement_linear(item_masses)"
   ]
  }
 ],
 "metadata": {
  "kernelspec": {
   "display_name": "Python 3 (ipykernel)",
   "language": "python",
   "name": "python3"
  },
  "language_info": {
   "codemirror_mode": {
    "name": "ipython",
    "version": 3
   },
   "file_extension": ".py",
   "mimetype": "text/x-python",
   "name": "python",
   "nbconvert_exporter": "python",
   "pygments_lexer": "ipython3",
   "version": "3.9.16"
  }
 },
 "nbformat": 4,
 "nbformat_minor": 5
}
