{
 "cells": [
  {
   "cell_type": "markdown",
   "id": "d52d1bd0-6cd8-4cdc-9154-cfe085727a67",
   "metadata": {},
   "source": [
    "# A Few Example Questions"
   ]
  },
  {
   "cell_type": "code",
   "execution_count": null,
   "id": "f26d75ba-306b-4087-a709-d83ae1e44918",
   "metadata": {},
   "outputs": [],
   "source": [
    "# Write the code for pulling data from a\n",
    "# single month in a city of your choosing\n",
    "\n",
    "# Be sure to store the transcript files locally\n",
    "# And store them as a CSV\n",
    "\n",
    "# Hint: The CDPInstances object has all the cities we support\n",
    "\n",
    "# IMPORTANT: only pull a month of data, don't want this to take a\n",
    "# long time to download or to fill up your hard drive"
   ]
  },
  {
   "cell_type": "code",
   "execution_count": null,
   "id": "0a23bbe5-5cc4-401d-892f-923915c995ca",
   "metadata": {},
   "outputs": [],
   "source": [
    "# Find the mean, median, and max sentence duration in a random meeting\n",
    "# (just pick a session to look at) from the data you have available"
   ]
  },
  {
   "cell_type": "code",
   "execution_count": null,
   "id": "f0b7be12-848c-4bed-b022-38f4eee3f05e",
   "metadata": {},
   "outputs": [],
   "source": [
    "# OPTIONAL\n",
    "\n",
    "# Get the mean, median, and max sentence durations for all sessions in the dataset\n",
    "# you created and return a new dataframe with those stats\n",
    "# i.e.\n",
    "# session_id | mean | median | max\n",
    "# ...        | ...  | ...    | ..."
   ]
  }
 ],
 "metadata": {
  "kernelspec": {
   "display_name": "Python 3 (ipykernel)",
   "language": "python",
   "name": "python3"
  },
  "language_info": {
   "codemirror_mode": {
    "name": "ipython",
    "version": 3
   },
   "file_extension": ".py",
   "mimetype": "text/x-python",
   "name": "python",
   "nbconvert_exporter": "python",
   "pygments_lexer": "ipython3",
   "version": "3.9.15"
  }
 },
 "nbformat": 4,
 "nbformat_minor": 5
}
