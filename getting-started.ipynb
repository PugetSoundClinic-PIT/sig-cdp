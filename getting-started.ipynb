{
 "cells": [
  {
   "cell_type": "markdown",
   "id": "0ee9100f-3382-4d0d-a793-1c998f4e4e7a",
   "metadata": {},
   "source": [
    "# Getting Set Up\n",
    "\n",
    "Make sure that all packages are installed, pull data, and answer a few questions."
   ]
  },
  {
   "cell_type": "markdown",
   "id": "787e0646-8b0f-4606-896c-49ace98c2e2d",
   "metadata": {},
   "source": [
    "## Checking Packages"
   ]
  },
  {
   "cell_type": "code",
   "execution_count": 1,
   "id": "6a6cfe91-2497-42cf-97d0-987f096ecfb1",
   "metadata": {},
   "outputs": [
    {
     "data": {
      "text/plain": [
       "('0.0.9', '0.12.2')"
      ]
     },
     "execution_count": 1,
     "metadata": {},
     "output_type": "execute_result"
    }
   ],
   "source": [
    "import cdp_data\n",
    "import seaborn as sns\n",
    "\n",
    "cdp_data.__version__, sns.__version__"
   ]
  },
  {
   "cell_type": "markdown",
   "id": "1923da5b-55ae-4b37-bf86-9ccc4ec6d204",
   "metadata": {},
   "source": [
    "## Pull Some Data"
   ]
  },
  {
   "cell_type": "code",
   "execution_count": 2,
   "id": "ba209f0a-3d1b-4620-8bd6-31b1f82b0f56",
   "metadata": {},
   "outputs": [
    {
     "data": {
      "application/vnd.jupyter.widget-view+json": {
       "model_id": "e40513df07e54855b3e4958b7879768e",
       "version_major": 2,
       "version_minor": 0
      },
      "text/plain": [
       "Fetching each model attached to event_ref:   0%|          | 0/5 [00:00<?, ?it/s]"
      ]
     },
     "metadata": {},
     "output_type": "display_data"
    },
    {
     "data": {
      "application/vnd.jupyter.widget-view+json": {
       "model_id": "f523795c004e49c196ac51e5fbdeae1f",
       "version_major": 2,
       "version_minor": 0
      },
      "text/plain": [
       "Fetching transcripts:   0%|          | 0/5 [00:00<?, ?it/s]"
      ]
     },
     "metadata": {},
     "output_type": "display_data"
    },
    {
     "name": "stderr",
     "output_type": "stream",
     "text": [
      "Converting and storing each transcript as a CSV: 5it [00:06,  1.31s/it]\n"
     ]
    },
    {
     "data": {
      "text/html": [
       "<div>\n",
       "<style scoped>\n",
       "    .dataframe tbody tr th:only-of-type {\n",
       "        vertical-align: middle;\n",
       "    }\n",
       "\n",
       "    .dataframe tbody tr th {\n",
       "        vertical-align: top;\n",
       "    }\n",
       "\n",
       "    .dataframe thead th {\n",
       "        text-align: right;\n",
       "    }\n",
       "</style>\n",
       "<table border=\"1\" class=\"dataframe\">\n",
       "  <thead>\n",
       "    <tr style=\"text-align: right;\">\n",
       "      <th></th>\n",
       "      <th>session_datetime</th>\n",
       "      <th>session_index</th>\n",
       "      <th>session_content_hash</th>\n",
       "      <th>video_uri</th>\n",
       "      <th>video_start_time</th>\n",
       "      <th>video_end_time</th>\n",
       "      <th>caption_uri</th>\n",
       "      <th>external_source_id</th>\n",
       "      <th>id</th>\n",
       "      <th>key</th>\n",
       "      <th>event</th>\n",
       "      <th>transcript</th>\n",
       "      <th>transcript_path</th>\n",
       "      <th>transcript_as_csv_path</th>\n",
       "    </tr>\n",
       "  </thead>\n",
       "  <tbody>\n",
       "    <tr>\n",
       "      <th>0</th>\n",
       "      <td>2022-10-03 21:00:00+00:00</td>\n",
       "      <td>0</td>\n",
       "      <td>ae7cc8bd62900cb81350b0097db959fe6aa54bf94cbdc6...</td>\n",
       "      <td>https://video.seattle.gov/media/council/brief_...</td>\n",
       "      <td>None</td>\n",
       "      <td>None</td>\n",
       "      <td>https://www.seattlechannel.org/documents/seatt...</td>\n",
       "      <td>None</td>\n",
       "      <td>e9bdfa228805</td>\n",
       "      <td>session/e9bdfa228805</td>\n",
       "      <td>&lt;cdp_backend.database.models.Event object at 0...</td>\n",
       "      <td>&lt;cdp_backend.database.models.Transcript object...</td>\n",
       "      <td>/Users/eva/active/pit/sig-cdp/cdp-datasets/cdp...</td>\n",
       "      <td>/Users/eva/active/pit/sig-cdp/cdp-datasets/cdp...</td>\n",
       "    </tr>\n",
       "    <tr>\n",
       "      <th>1</th>\n",
       "      <td>2022-10-04 21:00:00+00:00</td>\n",
       "      <td>0</td>\n",
       "      <td>2bb8d74511e9806f675679490fb437bae46112ea6b936e...</td>\n",
       "      <td>https://video.seattle.gov/media/council/counci...</td>\n",
       "      <td>None</td>\n",
       "      <td>None</td>\n",
       "      <td>https://www.seattlechannel.org/documents/seatt...</td>\n",
       "      <td>None</td>\n",
       "      <td>9a9ac561e588</td>\n",
       "      <td>session/9a9ac561e588</td>\n",
       "      <td>&lt;cdp_backend.database.models.Event object at 0...</td>\n",
       "      <td>&lt;cdp_backend.database.models.Transcript object...</td>\n",
       "      <td>/Users/eva/active/pit/sig-cdp/cdp-datasets/cdp...</td>\n",
       "      <td>/Users/eva/active/pit/sig-cdp/cdp-datasets/cdp...</td>\n",
       "    </tr>\n",
       "    <tr>\n",
       "      <th>2</th>\n",
       "      <td>2022-10-13 16:30:00+00:00</td>\n",
       "      <td>0</td>\n",
       "      <td>71434085f1fed70cca131099ecc6da33743828d50f9949...</td>\n",
       "      <td>https://video.seattle.gov/media/council/budget...</td>\n",
       "      <td>None</td>\n",
       "      <td>None</td>\n",
       "      <td>https://www.seattlechannel.org/documents/seatt...</td>\n",
       "      <td>None</td>\n",
       "      <td>51141742fef8</td>\n",
       "      <td>session/51141742fef8</td>\n",
       "      <td>&lt;cdp_backend.database.models.Event object at 0...</td>\n",
       "      <td>&lt;cdp_backend.database.models.Transcript object...</td>\n",
       "      <td>/Users/eva/active/pit/sig-cdp/cdp-datasets/cdp...</td>\n",
       "      <td>/Users/eva/active/pit/sig-cdp/cdp-datasets/cdp...</td>\n",
       "    </tr>\n",
       "    <tr>\n",
       "      <th>3</th>\n",
       "      <td>2022-10-13 16:30:00+00:00</td>\n",
       "      <td>1</td>\n",
       "      <td>2a743c6bad095b4c33035c71ded456cbd637362da42983...</td>\n",
       "      <td>https://video.seattle.gov/media/council/budget...</td>\n",
       "      <td>None</td>\n",
       "      <td>None</td>\n",
       "      <td>https://www.seattlechannel.org/documents/seatt...</td>\n",
       "      <td>None</td>\n",
       "      <td>8e422a197c62</td>\n",
       "      <td>session/8e422a197c62</td>\n",
       "      <td>&lt;cdp_backend.database.models.Event object at 0...</td>\n",
       "      <td>&lt;cdp_backend.database.models.Transcript object...</td>\n",
       "      <td>/Users/eva/active/pit/sig-cdp/cdp-datasets/cdp...</td>\n",
       "      <td>/Users/eva/active/pit/sig-cdp/cdp-datasets/cdp...</td>\n",
       "    </tr>\n",
       "    <tr>\n",
       "      <th>4</th>\n",
       "      <td>2022-10-18 21:00:00+00:00</td>\n",
       "      <td>0</td>\n",
       "      <td>2b990b7ac5f00e31c33b0683badb54923d7ad9765d33c8...</td>\n",
       "      <td>https://video.seattle.gov/media/council/counci...</td>\n",
       "      <td>None</td>\n",
       "      <td>None</td>\n",
       "      <td>https://www.seattlechannel.org/documents/seatt...</td>\n",
       "      <td>None</td>\n",
       "      <td>2f7a3e667ed9</td>\n",
       "      <td>session/2f7a3e667ed9</td>\n",
       "      <td>&lt;cdp_backend.database.models.Event object at 0...</td>\n",
       "      <td>&lt;cdp_backend.database.models.Transcript object...</td>\n",
       "      <td>/Users/eva/active/pit/sig-cdp/cdp-datasets/cdp...</td>\n",
       "      <td>/Users/eva/active/pit/sig-cdp/cdp-datasets/cdp...</td>\n",
       "    </tr>\n",
       "  </tbody>\n",
       "</table>\n",
       "</div>"
      ],
      "text/plain": [
       "           session_datetime  session_index  \\\n",
       "0 2022-10-03 21:00:00+00:00              0   \n",
       "1 2022-10-04 21:00:00+00:00              0   \n",
       "2 2022-10-13 16:30:00+00:00              0   \n",
       "3 2022-10-13 16:30:00+00:00              1   \n",
       "4 2022-10-18 21:00:00+00:00              0   \n",
       "\n",
       "                                session_content_hash  \\\n",
       "0  ae7cc8bd62900cb81350b0097db959fe6aa54bf94cbdc6...   \n",
       "1  2bb8d74511e9806f675679490fb437bae46112ea6b936e...   \n",
       "2  71434085f1fed70cca131099ecc6da33743828d50f9949...   \n",
       "3  2a743c6bad095b4c33035c71ded456cbd637362da42983...   \n",
       "4  2b990b7ac5f00e31c33b0683badb54923d7ad9765d33c8...   \n",
       "\n",
       "                                           video_uri video_start_time  \\\n",
       "0  https://video.seattle.gov/media/council/brief_...             None   \n",
       "1  https://video.seattle.gov/media/council/counci...             None   \n",
       "2  https://video.seattle.gov/media/council/budget...             None   \n",
       "3  https://video.seattle.gov/media/council/budget...             None   \n",
       "4  https://video.seattle.gov/media/council/counci...             None   \n",
       "\n",
       "  video_end_time                                        caption_uri  \\\n",
       "0           None  https://www.seattlechannel.org/documents/seatt...   \n",
       "1           None  https://www.seattlechannel.org/documents/seatt...   \n",
       "2           None  https://www.seattlechannel.org/documents/seatt...   \n",
       "3           None  https://www.seattlechannel.org/documents/seatt...   \n",
       "4           None  https://www.seattlechannel.org/documents/seatt...   \n",
       "\n",
       "  external_source_id            id                   key  \\\n",
       "0               None  e9bdfa228805  session/e9bdfa228805   \n",
       "1               None  9a9ac561e588  session/9a9ac561e588   \n",
       "2               None  51141742fef8  session/51141742fef8   \n",
       "3               None  8e422a197c62  session/8e422a197c62   \n",
       "4               None  2f7a3e667ed9  session/2f7a3e667ed9   \n",
       "\n",
       "                                               event  \\\n",
       "0  <cdp_backend.database.models.Event object at 0...   \n",
       "1  <cdp_backend.database.models.Event object at 0...   \n",
       "2  <cdp_backend.database.models.Event object at 0...   \n",
       "3  <cdp_backend.database.models.Event object at 0...   \n",
       "4  <cdp_backend.database.models.Event object at 0...   \n",
       "\n",
       "                                          transcript  \\\n",
       "0  <cdp_backend.database.models.Transcript object...   \n",
       "1  <cdp_backend.database.models.Transcript object...   \n",
       "2  <cdp_backend.database.models.Transcript object...   \n",
       "3  <cdp_backend.database.models.Transcript object...   \n",
       "4  <cdp_backend.database.models.Transcript object...   \n",
       "\n",
       "                                     transcript_path  \\\n",
       "0  /Users/eva/active/pit/sig-cdp/cdp-datasets/cdp...   \n",
       "1  /Users/eva/active/pit/sig-cdp/cdp-datasets/cdp...   \n",
       "2  /Users/eva/active/pit/sig-cdp/cdp-datasets/cdp...   \n",
       "3  /Users/eva/active/pit/sig-cdp/cdp-datasets/cdp...   \n",
       "4  /Users/eva/active/pit/sig-cdp/cdp-datasets/cdp...   \n",
       "\n",
       "                              transcript_as_csv_path  \n",
       "0  /Users/eva/active/pit/sig-cdp/cdp-datasets/cdp...  \n",
       "1  /Users/eva/active/pit/sig-cdp/cdp-datasets/cdp...  \n",
       "2  /Users/eva/active/pit/sig-cdp/cdp-datasets/cdp...  \n",
       "3  /Users/eva/active/pit/sig-cdp/cdp-datasets/cdp...  \n",
       "4  /Users/eva/active/pit/sig-cdp/cdp-datasets/cdp...  "
      ]
     },
     "execution_count": 2,
     "metadata": {},
     "output_type": "execute_result"
    }
   ],
   "source": [
    "from cdp_data import CDPInstances, datasets\n",
    "\n",
    "# Get a dataset of \"city council sessions\"\n",
    "seattle_transcripts_oct_2022_to_nov_2022 = datasets.get_session_dataset(\n",
    "    CDPInstances.Seattle,  # specify the city (or county) council we want data from\n",
    "    start_datetime=\"2022-10-01\",  # YYYY-MM-DD format\n",
    "    end_datetime=\"2022-11-01\",  # YYYY-MM-DD format\n",
    "    store_transcript=True,  # store transcripts locally for fast file reading\n",
    "    store_transcript_as_csv=True,  # store transcripts as CSVs for easy pandas reading\n",
    ")\n",
    "seattle_transcripts_oct_2022_to_nov_2022"
   ]
  },
  {
   "cell_type": "markdown",
   "id": "2b0a949a-703e-4945-8b75-09ed3024cdb2",
   "metadata": {},
   "source": [
    "**Note:** All of the files you just downloaded are in the `cdp-datasets` directory next to this notebook. If at anytime you want to remove old unused data and clear up some space on your machine, just delete the `cdp-datasets` folder!"
   ]
  },
  {
   "cell_type": "markdown",
   "id": "0f30fb0c-cd5a-4df0-9bb7-34bcfb098dd8",
   "metadata": {},
   "source": [
    "## Data Details\n",
    "\n",
    "What is in this dataframe? Each row of the dataframe is a \"city council session\".\n",
    "Taken together, this is a dataframe containing metadata (the date and time,\n",
    "our database id for this session, and references to other database objects), and a\n",
    "path to a local file of the transcript for that session.\n",
    "\n",
    "We won't go over all the columns / fields of the dataset but will highlight a few."
   ]
  },
  {
   "cell_type": "code",
   "execution_count": 3,
   "id": "431c5a1b-8537-4308-aa87-47c0aaccacd2",
   "metadata": {},
   "outputs": [
    {
     "data": {
      "text/plain": [
       "session_datetime                                  2022-10-03 21:00:00+00:00\n",
       "session_index                                                             0\n",
       "session_content_hash      ae7cc8bd62900cb81350b0097db959fe6aa54bf94cbdc6...\n",
       "video_uri                 https://video.seattle.gov/media/council/brief_...\n",
       "video_start_time                                                       None\n",
       "video_end_time                                                         None\n",
       "caption_uri               https://www.seattlechannel.org/documents/seatt...\n",
       "external_source_id                                                     None\n",
       "id                                                             e9bdfa228805\n",
       "key                                                    session/e9bdfa228805\n",
       "event                     <cdp_backend.database.models.Event object at 0...\n",
       "transcript                <cdp_backend.database.models.Transcript object...\n",
       "transcript_path           /Users/eva/active/pit/sig-cdp/cdp-datasets/cdp...\n",
       "transcript_as_csv_path    /Users/eva/active/pit/sig-cdp/cdp-datasets/cdp...\n",
       "Name: 0, dtype: object"
      ]
     },
     "execution_count": 3,
     "metadata": {},
     "output_type": "execute_result"
    }
   ],
   "source": [
    "example_session = seattle_transcripts_oct_2022_to_nov_2022.iloc[0]\n",
    "example_session"
   ]
  },
  {
   "cell_type": "markdown",
   "id": "f7c74873-40db-4e8e-8c81-16a814f281d2",
   "metadata": {},
   "source": [
    "### `session_datetime`\n",
    "\n",
    "The date and time the session occurred."
   ]
  },
  {
   "cell_type": "code",
   "execution_count": 4,
   "id": "f41990a1-9dde-4db0-bf88-2ad831741ce9",
   "metadata": {},
   "outputs": [
    {
     "data": {
      "text/plain": [
       "Timestamp('2022-10-03 21:00:00+0000', tz='UTC')"
      ]
     },
     "execution_count": 4,
     "metadata": {},
     "output_type": "execute_result"
    }
   ],
   "source": [
    "example_session.session_datetime"
   ]
  },
  {
   "cell_type": "markdown",
   "id": "8f2d1050-e1cc-4c30-bf3d-864498d61e98",
   "metadata": {},
   "source": [
    "### `video_uri`\n",
    "\n",
    "A link to the original video of the council meeting. Try going to that URI in your browser, it _should_ play the video. 🤞"
   ]
  },
  {
   "cell_type": "code",
   "execution_count": 5,
   "id": "5918daf6-0026-4e86-ad0c-80cc69072452",
   "metadata": {},
   "outputs": [
    {
     "data": {
      "text/plain": [
       "'https://video.seattle.gov/media/council/brief_100322_2012261V.mp4'"
      ]
     },
     "execution_count": 5,
     "metadata": {},
     "output_type": "execute_result"
    }
   ],
   "source": [
    "example_session.video_uri"
   ]
  },
  {
   "cell_type": "markdown",
   "id": "296d8d30-f30c-471b-9a8f-3528d8a12e2a",
   "metadata": {},
   "source": [
    "### `id` and `key`\n",
    "\n",
    "The database `id` for this session. Each session has a unique ID. The `key` is just the long form of the `id`."
   ]
  },
  {
   "cell_type": "code",
   "execution_count": 6,
   "id": "33594745-2e9d-4f92-a82b-28bebfe77584",
   "metadata": {},
   "outputs": [
    {
     "data": {
      "text/plain": [
       "('e9bdfa228805', 'session/e9bdfa228805')"
      ]
     },
     "execution_count": 6,
     "metadata": {},
     "output_type": "execute_result"
    }
   ],
   "source": [
    "example_session.id, example_session.key"
   ]
  },
  {
   "cell_type": "markdown",
   "id": "5d964675-5f89-4258-bb2f-7fdb282502b9",
   "metadata": {},
   "source": [
    "### `transcript_path` and `transcript_as_csv_path`\n",
    "\n",
    "The local path to the transcript in it's raw JSON file format or\n",
    "converted to a CSV file for easy reading with `pandas`.\n",
    "\n",
    "Note: do not get `transcript` confused with `transcript_path`.\n",
    "`transcript` holds very basic metadata about the transcript\n",
    "while `transcript_path` is a path to the whole transcript file itself."
   ]
  },
  {
   "cell_type": "code",
   "execution_count": 7,
   "id": "b99d4014-4afb-4474-8e77-825efe02037b",
   "metadata": {},
   "outputs": [
    {
     "data": {
      "text/plain": [
       "PosixPath('/Users/eva/active/pit/sig-cdp/cdp-datasets/cdp-seattle-21723dcf/event-c5a6c08c7135/session-e9bdfa228805/transcript.json')"
      ]
     },
     "execution_count": 7,
     "metadata": {},
     "output_type": "execute_result"
    }
   ],
   "source": [
    "example_session.transcript_path"
   ]
  },
  {
   "cell_type": "code",
   "execution_count": 8,
   "id": "ee31be3b-32f5-4f79-832a-69da012a78c7",
   "metadata": {},
   "outputs": [
    {
     "data": {
      "text/plain": [
       "PosixPath('/Users/eva/active/pit/sig-cdp/cdp-datasets/cdp-seattle-21723dcf/event-c5a6c08c7135/session-e9bdfa228805/transcript.csv')"
      ]
     },
     "execution_count": 8,
     "metadata": {},
     "output_type": "execute_result"
    }
   ],
   "source": [
    "example_session.transcript_as_csv_path"
   ]
  },
  {
   "cell_type": "markdown",
   "id": "9c49adf8-c0a7-4740-9016-fde32c3dbccd",
   "metadata": {},
   "source": [
    "## Reading a Transcript's Sentence Data (CSV)"
   ]
  },
  {
   "cell_type": "code",
   "execution_count": 9,
   "id": "a9db5a90-a64e-4144-a849-709ea8ace505",
   "metadata": {},
   "outputs": [
    {
     "data": {
      "text/html": [
       "<div>\n",
       "<style scoped>\n",
       "    .dataframe tbody tr th:only-of-type {\n",
       "        vertical-align: middle;\n",
       "    }\n",
       "\n",
       "    .dataframe tbody tr th {\n",
       "        vertical-align: top;\n",
       "    }\n",
       "\n",
       "    .dataframe thead th {\n",
       "        text-align: right;\n",
       "    }\n",
       "</style>\n",
       "<table border=\"1\" class=\"dataframe\">\n",
       "  <thead>\n",
       "    <tr style=\"text-align: right;\">\n",
       "      <th></th>\n",
       "      <th>index</th>\n",
       "      <th>confidence</th>\n",
       "      <th>start_time</th>\n",
       "      <th>end_time</th>\n",
       "      <th>text</th>\n",
       "      <th>speaker_index</th>\n",
       "      <th>speaker_name</th>\n",
       "      <th>annotations</th>\n",
       "    </tr>\n",
       "  </thead>\n",
       "  <tbody>\n",
       "    <tr>\n",
       "      <th>0</th>\n",
       "      <td>0</td>\n",
       "      <td>0.97</td>\n",
       "      <td>14.214</td>\n",
       "      <td>14.280</td>\n",
       "      <td>&amp; GT;</td>\n",
       "      <td>0</td>\n",
       "      <td>NaN</td>\n",
       "      <td>NaN</td>\n",
       "    </tr>\n",
       "    <tr>\n",
       "      <th>1</th>\n",
       "      <td>1</td>\n",
       "      <td>0.97</td>\n",
       "      <td>14.280</td>\n",
       "      <td>30.930</td>\n",
       "      <td>With that, good afternoon, everyone . today is...</td>\n",
       "      <td>1</td>\n",
       "      <td>NaN</td>\n",
       "      <td>NaN</td>\n",
       "    </tr>\n",
       "    <tr>\n",
       "      <th>2</th>\n",
       "      <td>2</td>\n",
       "      <td>0.97</td>\n",
       "      <td>30.930</td>\n",
       "      <td>34.634</td>\n",
       "      <td>Councilmember Nelson? Councir Nelson? Councilm...</td>\n",
       "      <td>2</td>\n",
       "      <td>NaN</td>\n",
       "      <td>NaN</td>\n",
       "    </tr>\n",
       "    <tr>\n",
       "      <th>3</th>\n",
       "      <td>3</td>\n",
       "      <td>0.97</td>\n",
       "      <td>34.634</td>\n",
       "      <td>36.703</td>\n",
       "      <td>Present.</td>\n",
       "      <td>3</td>\n",
       "      <td>NaN</td>\n",
       "      <td>NaN</td>\n",
       "    </tr>\n",
       "    <tr>\n",
       "      <th>4</th>\n",
       "      <td>4</td>\n",
       "      <td>0.97</td>\n",
       "      <td>36.703</td>\n",
       "      <td>38.071</td>\n",
       "      <td>Councilmember Suwant?</td>\n",
       "      <td>4</td>\n",
       "      <td>NaN</td>\n",
       "      <td>NaN</td>\n",
       "    </tr>\n",
       "    <tr>\n",
       "      <th>...</th>\n",
       "      <td>...</td>\n",
       "      <td>...</td>\n",
       "      <td>...</td>\n",
       "      <td>...</td>\n",
       "      <td>...</td>\n",
       "      <td>...</td>\n",
       "      <td>...</td>\n",
       "      <td>...</td>\n",
       "    </tr>\n",
       "    <tr>\n",
       "      <th>123</th>\n",
       "      <td>123</td>\n",
       "      <td>0.97</td>\n",
       "      <td>4750.645</td>\n",
       "      <td>4751.379</td>\n",
       "      <td>Session . colleagues don't go an.</td>\n",
       "      <td>100</td>\n",
       "      <td>NaN</td>\n",
       "      <td>NaN</td>\n",
       "    </tr>\n",
       "    <tr>\n",
       "      <th>124</th>\n",
       "      <td>124</td>\n",
       "      <td>0.97</td>\n",
       "      <td>4751.379</td>\n",
       "      <td>4752.114</td>\n",
       "      <td>Session . colleagues don't go an.</td>\n",
       "      <td>100</td>\n",
       "      <td>NaN</td>\n",
       "      <td>NaN</td>\n",
       "    </tr>\n",
       "    <tr>\n",
       "      <th>125</th>\n",
       "      <td>125</td>\n",
       "      <td>0.97</td>\n",
       "      <td>4752.114</td>\n",
       "      <td>4752.848</td>\n",
       "      <td>Session . colleagues don't go an.</td>\n",
       "      <td>100</td>\n",
       "      <td>NaN</td>\n",
       "      <td>NaN</td>\n",
       "    </tr>\n",
       "    <tr>\n",
       "      <th>126</th>\n",
       "      <td>126</td>\n",
       "      <td>0.97</td>\n",
       "      <td>4752.848</td>\n",
       "      <td>4753.582</td>\n",
       "      <td>Session . colleagues don't go an.</td>\n",
       "      <td>100</td>\n",
       "      <td>NaN</td>\n",
       "      <td>NaN</td>\n",
       "    </tr>\n",
       "    <tr>\n",
       "      <th>127</th>\n",
       "      <td>127</td>\n",
       "      <td>0.97</td>\n",
       "      <td>4753.582</td>\n",
       "      <td>4754.249</td>\n",
       "      <td>Session . colleagues don't go an.</td>\n",
       "      <td>100</td>\n",
       "      <td>NaN</td>\n",
       "      <td>NaN</td>\n",
       "    </tr>\n",
       "  </tbody>\n",
       "</table>\n",
       "<p>128 rows × 8 columns</p>\n",
       "</div>"
      ],
      "text/plain": [
       "     index  confidence  start_time  end_time  \\\n",
       "0        0        0.97      14.214    14.280   \n",
       "1        1        0.97      14.280    30.930   \n",
       "2        2        0.97      30.930    34.634   \n",
       "3        3        0.97      34.634    36.703   \n",
       "4        4        0.97      36.703    38.071   \n",
       "..     ...         ...         ...       ...   \n",
       "123    123        0.97    4750.645  4751.379   \n",
       "124    124        0.97    4751.379  4752.114   \n",
       "125    125        0.97    4752.114  4752.848   \n",
       "126    126        0.97    4752.848  4753.582   \n",
       "127    127        0.97    4753.582  4754.249   \n",
       "\n",
       "                                                  text  speaker_index  \\\n",
       "0                                                & GT;              0   \n",
       "1    With that, good afternoon, everyone . today is...              1   \n",
       "2    Councilmember Nelson? Councir Nelson? Councilm...              2   \n",
       "3                                             Present.              3   \n",
       "4                                Councilmember Suwant?              4   \n",
       "..                                                 ...            ...   \n",
       "123                  Session . colleagues don't go an.            100   \n",
       "124                  Session . colleagues don't go an.            100   \n",
       "125                  Session . colleagues don't go an.            100   \n",
       "126                  Session . colleagues don't go an.            100   \n",
       "127                  Session . colleagues don't go an.            100   \n",
       "\n",
       "     speaker_name  annotations  \n",
       "0             NaN          NaN  \n",
       "1             NaN          NaN  \n",
       "2             NaN          NaN  \n",
       "3             NaN          NaN  \n",
       "4             NaN          NaN  \n",
       "..            ...          ...  \n",
       "123           NaN          NaN  \n",
       "124           NaN          NaN  \n",
       "125           NaN          NaN  \n",
       "126           NaN          NaN  \n",
       "127           NaN          NaN  \n",
       "\n",
       "[128 rows x 8 columns]"
      ]
     },
     "execution_count": 9,
     "metadata": {},
     "output_type": "execute_result"
    }
   ],
   "source": [
    "import pandas as pd\n",
    "\n",
    "example_transcript_df = pd.read_csv(example_session.transcript_as_csv_path)\n",
    "example_transcript_df"
   ]
  },
  {
   "cell_type": "markdown",
   "id": "52ffadf8-a7fb-440b-a321-fcef4c2abb79",
   "metadata": {},
   "source": [
    "### Sentence Data Details\n",
    "\n",
    "Just a few, not all.\n",
    "\n",
    "#### `start_time`\n",
    "\n",
    "The start time of the sentence in the session in seconds. I.e. The first sentence in the session started at 14.214 seconds into the recording.\n",
    "\n",
    "#### `end_time`\n",
    "\n",
    "The end time of the sentence in the session in seconds. I.e. The first sentence in the session ended at 14.280 seconds into the recording.\n",
    "\n",
    "#### `text`\n",
    "\n",
    "The transcribed text! There may be a few mistakes here but generally it is 85% ish accurate (rough guess)."
   ]
  },
  {
   "cell_type": "code",
   "execution_count": 10,
   "id": "ab3e05e6-4303-4494-8680-591869591a37",
   "metadata": {},
   "outputs": [
    {
     "name": "stdout",
     "output_type": "stream",
     "text": [
      "14.214 - 14.28 -- '& GT;'\n",
      "14.28 - 30.93 -- 'With that, good afternoon, everyone . today is Monday, October 3RD . The Council briefing meeting will come to order . It is 2:01 and I am Debora Juarez . will the clerk please call the roll?'\n",
      "30.93 - 34.634 -- 'Councilmember Nelson? Councir Nelson? Councilmember Pedersen?'\n"
     ]
    }
   ],
   "source": [
    "# lets look at the first three sentences\n",
    "for _, row in example_transcript_df[:3].iterrows():\n",
    "    print(f\"{row.start_time} - {row.end_time} -- '{row.text}'\")"
   ]
  },
  {
   "cell_type": "markdown",
   "id": "53610116-9cc7-40e4-a3a7-efb9ce23bd82",
   "metadata": {},
   "source": [
    "It is a bit messy, there are obvious punctuation mistakes, and these sentences should have been split up correctly (this is a bug and we are working on it), but generally the data is all there. It's just text data!"
   ]
  },
  {
   "cell_type": "markdown",
   "id": "6ab954e2-eed7-4123-9597-4ca5f3f6d3b7",
   "metadata": {},
   "source": [
    "## (Optional) Reading a Transcript with Full Metadata and Deeper Access (JSON)"
   ]
  },
  {
   "cell_type": "code",
   "execution_count": 11,
   "id": "9c1a8174-defc-450e-802a-4d420d26cf0f",
   "metadata": {},
   "outputs": [
    {
     "data": {
      "text/plain": [
       "Transcript(generator='CDP WebVTT Conversion -- CDP v3.2.3', confidence=0.9699999999999991, session_datetime='2022-10-03T14:00:00-07:00', created_datetime='2022-10-04T04:39:14.131557', sentences=[...] (n=128), annotations=None)"
      ]
     },
     "execution_count": 11,
     "metadata": {},
     "output_type": "execute_result"
    }
   ],
   "source": [
    "from cdp_backend.pipeline.transcript_model import Transcript\n",
    "\n",
    "# open the file\n",
    "with open(example_session.transcript_path, \"r\") as open_file:\n",
    "    # read the contents into a transcript object\n",
    "    example_transcript = Transcript.from_json(open_file.read())\n",
    "\n",
    "example_transcript"
   ]
  },
  {
   "cell_type": "markdown",
   "id": "3e89dd02-4a3b-47ab-a55c-0862e4a40b2a",
   "metadata": {},
   "source": [
    "We can see some basic metadata about the transcript from the print out.\n",
    "\n",
    "* We can see the algorithm that generated the transcript: `generator=...`\n",
    "* We can see how confident we are that the transcript is accurate `confidence=...`\n",
    "* We can see the session datetime `session_datetime=...` (this should always be the same as in the dataframe)\n",
    "* We can see when this transcript was created (it may be different from the session) `created_datetime=...`\n",
    "* We can see the number of sentences `sentences=[...] (n=128)` (128 sentences in the transcript)\n",
    "\n",
    "This object has a lot more data than what fits in the \"dataframe version\" of the transcript."
   ]
  },
  {
   "cell_type": "code",
   "execution_count": 12,
   "id": "b1217216-6fc7-4e3a-ba70-cb0306c87eec",
   "metadata": {},
   "outputs": [
    {
     "name": "stdout",
     "output_type": "stream",
     "text": [
      "14.214 - 14.28 -- & GT;\n",
      "14.28 - 30.93 -- With that, good afternoon, everyone . today is Monday, October 3RD . The Council briefing meeting will come to order . It is 2:01 and I am Debora Juarez . will the clerk please call the roll?\n",
      "30.93 - 34.634 -- Councilmember Nelson? Councir Nelson? Councilmember Pedersen?\n"
     ]
    }
   ],
   "source": [
    "# Lets look at the first three sentences\n",
    "for i in range(3):\n",
    "    # Get the start time, the end time, and the text\n",
    "    example_sentence = example_transcript.sentences[i]\n",
    "    start_time = example_sentence.start_time\n",
    "    end_time = example_sentence.end_time\n",
    "    text = example_sentence.text\n",
    "    print(f\"{start_time} - {end_time} -- {text}\")"
   ]
  },
  {
   "cell_type": "markdown",
   "id": "597a58bb-439d-492a-a747-1c54d5b8189e",
   "metadata": {},
   "source": [
    "Their are two cases to use the `Transcript` object over a `pandas.DataFrame`:\n",
    "\n",
    "1. if you prefer that data structure\n",
    "2. if you want access to word-level timestamps"
   ]
  },
  {
   "cell_type": "code",
   "execution_count": 13,
   "id": "f3fcb743-0a9c-4533-b72b-c3ca72fa91f6",
   "metadata": {},
   "outputs": [
    {
     "name": "stdout",
     "output_type": "stream",
     "text": [
      "33.366 - 33.577333333333335 -- 'councilmember'\n",
      "33.577333333333335 - 33.788666666666664 -- 'nelson'\n",
      "33.788666666666664 - 34.0 -- 'councir'\n",
      "34.0 - 34.211333333333336 -- 'nelson'\n",
      "34.211333333333336 - 34.422666666666665 -- 'councilmember'\n",
      "34.422666666666665 - 34.634 -- 'pedersen'\n"
     ]
    }
   ],
   "source": [
    "# Get the third sentence\n",
    "single_example_sentence = example_transcript.sentences[2]\n",
    "\n",
    "for word in single_example_sentence.words:\n",
    "    print(f\"{word.start_time} - {word.end_time} -- '{word.text}'\")"
   ]
  }
 ],
 "metadata": {
  "kernelspec": {
   "display_name": "Python 3 (ipykernel)",
   "language": "python",
   "name": "python3"
  },
  "language_info": {
   "codemirror_mode": {
    "name": "ipython",
    "version": 3
   },
   "file_extension": ".py",
   "mimetype": "text/x-python",
   "name": "python",
   "nbconvert_exporter": "python",
   "pygments_lexer": "ipython3",
   "version": "3.9.15"
  }
 },
 "nbformat": 4,
 "nbformat_minor": 5
}
