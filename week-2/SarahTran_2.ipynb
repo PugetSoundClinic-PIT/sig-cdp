{
 "cells": [
  {
   "cell_type": "code",
   "execution_count": 16,
   "id": "b834d0ef-8cf7-471c-a9bf-21e0d7707b43",
   "metadata": {},
   "outputs": [
    {
     "data": {
      "text/plain": [
       "('0.0.9', '0.12.2')"
      ]
     },
     "execution_count": 16,
     "metadata": {},
     "output_type": "execute_result"
    }
   ],
   "source": [
    "import cdp_data\n",
    "import seaborn as sns\n",
    "\n",
    "cdp_data.__version__, sns.__version__"
   ]
  },
  {
   "cell_type": "code",
   "execution_count": 17,
   "id": "337fb2d9-6d7a-418f-b711-fff5f172825c",
   "metadata": {},
   "outputs": [
    {
     "data": {
      "application/vnd.jupyter.widget-view+json": {
       "model_id": "548fb1f6ed0646f4bca6c21f1ce74cf1",
       "version_major": 2,
       "version_minor": 0
      },
      "text/plain": [
       "Fetching each model attached to event_ref:   0%|          | 0/6 [00:00<?, ?it/s]"
      ]
     },
     "metadata": {},
     "output_type": "display_data"
    },
    {
     "data": {
      "application/vnd.jupyter.widget-view+json": {
       "model_id": "50506e34468749c7bc6d74c793c63a15",
       "version_major": 2,
       "version_minor": 0
      },
      "text/plain": [
       "Fetching transcripts:   0%|          | 0/6 [00:00<?, ?it/s]"
      ]
     },
     "metadata": {},
     "output_type": "display_data"
    },
    {
     "name": "stderr",
     "output_type": "stream",
     "text": [
      "Converting and storing each transcript as a CSV: 6it [00:16,  2.69s/it]\n"
     ]
    },
    {
     "data": {
      "text/html": [
       "<div>\n",
       "<style scoped>\n",
       "    .dataframe tbody tr th:only-of-type {\n",
       "        vertical-align: middle;\n",
       "    }\n",
       "\n",
       "    .dataframe tbody tr th {\n",
       "        vertical-align: top;\n",
       "    }\n",
       "\n",
       "    .dataframe thead th {\n",
       "        text-align: right;\n",
       "    }\n",
       "</style>\n",
       "<table border=\"1\" class=\"dataframe\">\n",
       "  <thead>\n",
       "    <tr style=\"text-align: right;\">\n",
       "      <th></th>\n",
       "      <th>session_datetime</th>\n",
       "      <th>session_index</th>\n",
       "      <th>session_content_hash</th>\n",
       "      <th>video_uri</th>\n",
       "      <th>video_start_time</th>\n",
       "      <th>video_end_time</th>\n",
       "      <th>caption_uri</th>\n",
       "      <th>external_source_id</th>\n",
       "      <th>id</th>\n",
       "      <th>key</th>\n",
       "      <th>event</th>\n",
       "      <th>transcript</th>\n",
       "      <th>transcript_path</th>\n",
       "      <th>transcript_as_csv_path</th>\n",
       "    </tr>\n",
       "  </thead>\n",
       "  <tbody>\n",
       "    <tr>\n",
       "      <th>0</th>\n",
       "      <td>2022-11-08 17:30:00+00:00</td>\n",
       "      <td>0</td>\n",
       "      <td>03f773466582c2fe255757de66849ccdda08ae1e8b0106...</td>\n",
       "      <td>https://video.seattle.gov/media/council/budget...</td>\n",
       "      <td>None</td>\n",
       "      <td>None</td>\n",
       "      <td>https://www.seattlechannel.org/documents/seatt...</td>\n",
       "      <td>None</td>\n",
       "      <td>146b621e98f1</td>\n",
       "      <td>session/146b621e98f1</td>\n",
       "      <td>&lt;cdp_backend.database.models.Event object at 0...</td>\n",
       "      <td>&lt;cdp_backend.database.models.Transcript object...</td>\n",
       "      <td>C:\\Users\\melis\\CDP-Research\\sig-cdp\\cdp-datase...</td>\n",
       "      <td>C:\\Users\\melis\\CDP-Research\\sig-cdp\\cdp-datase...</td>\n",
       "    </tr>\n",
       "    <tr>\n",
       "      <th>1</th>\n",
       "      <td>2022-11-14 19:00:00+00:00</td>\n",
       "      <td>0</td>\n",
       "      <td>f9a8a54cd00fd0f1b54528403f55696947d754779be0d6...</td>\n",
       "      <td>https://video.seattle.gov/media/council/budget...</td>\n",
       "      <td>None</td>\n",
       "      <td>None</td>\n",
       "      <td>https://www.seattlechannel.org/documents/seatt...</td>\n",
       "      <td>None</td>\n",
       "      <td>de02e80a9141</td>\n",
       "      <td>session/de02e80a9141</td>\n",
       "      <td>&lt;cdp_backend.database.models.Event object at 0...</td>\n",
       "      <td>&lt;cdp_backend.database.models.Transcript object...</td>\n",
       "      <td>C:\\Users\\melis\\CDP-Research\\sig-cdp\\cdp-datase...</td>\n",
       "      <td>C:\\Users\\melis\\CDP-Research\\sig-cdp\\cdp-datase...</td>\n",
       "    </tr>\n",
       "    <tr>\n",
       "      <th>2</th>\n",
       "      <td>2022-11-15 22:00:00+00:00</td>\n",
       "      <td>0</td>\n",
       "      <td>6eb7108be92e3fc02ea703c7a9ac5115fee783fbc67026...</td>\n",
       "      <td>https://video.seattle.gov/media/council/counci...</td>\n",
       "      <td>None</td>\n",
       "      <td>None</td>\n",
       "      <td>https://www.seattlechannel.org/documents/seatt...</td>\n",
       "      <td>None</td>\n",
       "      <td>4cce6db97bcb</td>\n",
       "      <td>session/4cce6db97bcb</td>\n",
       "      <td>&lt;cdp_backend.database.models.Event object at 0...</td>\n",
       "      <td>&lt;cdp_backend.database.models.Transcript object...</td>\n",
       "      <td>C:\\Users\\melis\\CDP-Research\\sig-cdp\\cdp-datase...</td>\n",
       "      <td>C:\\Users\\melis\\CDP-Research\\sig-cdp\\cdp-datase...</td>\n",
       "    </tr>\n",
       "    <tr>\n",
       "      <th>3</th>\n",
       "      <td>2022-11-16 01:00:00+00:00</td>\n",
       "      <td>0</td>\n",
       "      <td>1d0abcb6f0fe251d3d99187701052b63b9ffe1283bf20c...</td>\n",
       "      <td>https://video.seattle.gov/media/council/budget...</td>\n",
       "      <td>None</td>\n",
       "      <td>None</td>\n",
       "      <td>https://www.seattlechannel.org/documents/seatt...</td>\n",
       "      <td>None</td>\n",
       "      <td>e3d6d67bec42</td>\n",
       "      <td>session/e3d6d67bec42</td>\n",
       "      <td>&lt;cdp_backend.database.models.Event object at 0...</td>\n",
       "      <td>&lt;cdp_backend.database.models.Transcript object...</td>\n",
       "      <td>C:\\Users\\melis\\CDP-Research\\sig-cdp\\cdp-datase...</td>\n",
       "      <td>C:\\Users\\melis\\CDP-Research\\sig-cdp\\cdp-datase...</td>\n",
       "    </tr>\n",
       "    <tr>\n",
       "      <th>4</th>\n",
       "      <td>2022-11-21 17:30:00+00:00</td>\n",
       "      <td>0</td>\n",
       "      <td>cd7fc40b9fc990fbcd6dc669bb1ddf0af83f629c45309f...</td>\n",
       "      <td>https://video.seattle.gov/media/council/budget...</td>\n",
       "      <td>None</td>\n",
       "      <td>None</td>\n",
       "      <td>https://www.seattlechannel.org/documents/seatt...</td>\n",
       "      <td>None</td>\n",
       "      <td>7416d3fe3b87</td>\n",
       "      <td>session/7416d3fe3b87</td>\n",
       "      <td>&lt;cdp_backend.database.models.Event object at 0...</td>\n",
       "      <td>&lt;cdp_backend.database.models.Transcript object...</td>\n",
       "      <td>C:\\Users\\melis\\CDP-Research\\sig-cdp\\cdp-datase...</td>\n",
       "      <td>C:\\Users\\melis\\CDP-Research\\sig-cdp\\cdp-datase...</td>\n",
       "    </tr>\n",
       "    <tr>\n",
       "      <th>5</th>\n",
       "      <td>2022-11-28 17:30:00+00:00</td>\n",
       "      <td>0</td>\n",
       "      <td>e7a0ae463d73a4079cf7f904a71ab9fe995ef67df33c0e...</td>\n",
       "      <td>https://video.seattle.gov/media/council/budget...</td>\n",
       "      <td>None</td>\n",
       "      <td>None</td>\n",
       "      <td>https://www.seattlechannel.org/documents/seatt...</td>\n",
       "      <td>None</td>\n",
       "      <td>50c77ac2bebb</td>\n",
       "      <td>session/50c77ac2bebb</td>\n",
       "      <td>&lt;cdp_backend.database.models.Event object at 0...</td>\n",
       "      <td>&lt;cdp_backend.database.models.Transcript object...</td>\n",
       "      <td>C:\\Users\\melis\\CDP-Research\\sig-cdp\\cdp-datase...</td>\n",
       "      <td>C:\\Users\\melis\\CDP-Research\\sig-cdp\\cdp-datase...</td>\n",
       "    </tr>\n",
       "  </tbody>\n",
       "</table>\n",
       "</div>"
      ],
      "text/plain": [
       "           session_datetime  session_index  \\\n",
       "0 2022-11-08 17:30:00+00:00              0   \n",
       "1 2022-11-14 19:00:00+00:00              0   \n",
       "2 2022-11-15 22:00:00+00:00              0   \n",
       "3 2022-11-16 01:00:00+00:00              0   \n",
       "4 2022-11-21 17:30:00+00:00              0   \n",
       "5 2022-11-28 17:30:00+00:00              0   \n",
       "\n",
       "                                session_content_hash  \\\n",
       "0  03f773466582c2fe255757de66849ccdda08ae1e8b0106...   \n",
       "1  f9a8a54cd00fd0f1b54528403f55696947d754779be0d6...   \n",
       "2  6eb7108be92e3fc02ea703c7a9ac5115fee783fbc67026...   \n",
       "3  1d0abcb6f0fe251d3d99187701052b63b9ffe1283bf20c...   \n",
       "4  cd7fc40b9fc990fbcd6dc669bb1ddf0af83f629c45309f...   \n",
       "5  e7a0ae463d73a4079cf7f904a71ab9fe995ef67df33c0e...   \n",
       "\n",
       "                                           video_uri video_start_time  \\\n",
       "0  https://video.seattle.gov/media/council/budget...             None   \n",
       "1  https://video.seattle.gov/media/council/budget...             None   \n",
       "2  https://video.seattle.gov/media/council/counci...             None   \n",
       "3  https://video.seattle.gov/media/council/budget...             None   \n",
       "4  https://video.seattle.gov/media/council/budget...             None   \n",
       "5  https://video.seattle.gov/media/council/budget...             None   \n",
       "\n",
       "  video_end_time                                        caption_uri  \\\n",
       "0           None  https://www.seattlechannel.org/documents/seatt...   \n",
       "1           None  https://www.seattlechannel.org/documents/seatt...   \n",
       "2           None  https://www.seattlechannel.org/documents/seatt...   \n",
       "3           None  https://www.seattlechannel.org/documents/seatt...   \n",
       "4           None  https://www.seattlechannel.org/documents/seatt...   \n",
       "5           None  https://www.seattlechannel.org/documents/seatt...   \n",
       "\n",
       "  external_source_id            id                   key  \\\n",
       "0               None  146b621e98f1  session/146b621e98f1   \n",
       "1               None  de02e80a9141  session/de02e80a9141   \n",
       "2               None  4cce6db97bcb  session/4cce6db97bcb   \n",
       "3               None  e3d6d67bec42  session/e3d6d67bec42   \n",
       "4               None  7416d3fe3b87  session/7416d3fe3b87   \n",
       "5               None  50c77ac2bebb  session/50c77ac2bebb   \n",
       "\n",
       "                                               event  \\\n",
       "0  <cdp_backend.database.models.Event object at 0...   \n",
       "1  <cdp_backend.database.models.Event object at 0...   \n",
       "2  <cdp_backend.database.models.Event object at 0...   \n",
       "3  <cdp_backend.database.models.Event object at 0...   \n",
       "4  <cdp_backend.database.models.Event object at 0...   \n",
       "5  <cdp_backend.database.models.Event object at 0...   \n",
       "\n",
       "                                          transcript  \\\n",
       "0  <cdp_backend.database.models.Transcript object...   \n",
       "1  <cdp_backend.database.models.Transcript object...   \n",
       "2  <cdp_backend.database.models.Transcript object...   \n",
       "3  <cdp_backend.database.models.Transcript object...   \n",
       "4  <cdp_backend.database.models.Transcript object...   \n",
       "5  <cdp_backend.database.models.Transcript object...   \n",
       "\n",
       "                                     transcript_path  \\\n",
       "0  C:\\Users\\melis\\CDP-Research\\sig-cdp\\cdp-datase...   \n",
       "1  C:\\Users\\melis\\CDP-Research\\sig-cdp\\cdp-datase...   \n",
       "2  C:\\Users\\melis\\CDP-Research\\sig-cdp\\cdp-datase...   \n",
       "3  C:\\Users\\melis\\CDP-Research\\sig-cdp\\cdp-datase...   \n",
       "4  C:\\Users\\melis\\CDP-Research\\sig-cdp\\cdp-datase...   \n",
       "5  C:\\Users\\melis\\CDP-Research\\sig-cdp\\cdp-datase...   \n",
       "\n",
       "                              transcript_as_csv_path  \n",
       "0  C:\\Users\\melis\\CDP-Research\\sig-cdp\\cdp-datase...  \n",
       "1  C:\\Users\\melis\\CDP-Research\\sig-cdp\\cdp-datase...  \n",
       "2  C:\\Users\\melis\\CDP-Research\\sig-cdp\\cdp-datase...  \n",
       "3  C:\\Users\\melis\\CDP-Research\\sig-cdp\\cdp-datase...  \n",
       "4  C:\\Users\\melis\\CDP-Research\\sig-cdp\\cdp-datase...  \n",
       "5  C:\\Users\\melis\\CDP-Research\\sig-cdp\\cdp-datase...  "
      ]
     },
     "execution_count": 17,
     "metadata": {},
     "output_type": "execute_result"
    }
   ],
   "source": [
    "from cdp_data import CDPInstances, datasets\n",
    "\n",
    "seattle_transcripts_nov_2022_to_dec_2022 = datasets.get_session_dataset(\n",
    "    CDPInstances.Seattle,  # specify the city (or county) council we want data from\n",
    "    start_datetime=\"2022-11-01\",  # YYYY-MM-DD format\n",
    "    end_datetime=\"2022-12-01\",  # YYYY-MM-DD format\n",
    "    store_transcript=True,  # store transcripts locally for fast file reading\n",
    "    store_transcript_as_csv=True,  # store transcripts as CSVs for easy pandas reading\n",
    ")\n",
    "seattle_transcripts_nov_2022_to_dec_2022"
   ]
  },
  {
   "cell_type": "code",
   "execution_count": 26,
   "id": "04391a20-3cfb-42ef-a25b-ec3477eb2198",
   "metadata": {},
   "outputs": [
    {
     "name": "stderr",
     "output_type": "stream",
     "text": [
      "c:\\python38\\lib\\site-packages\\huggingface_hub\\file_download.py:594: FutureWarning: `cached_download` is the legacy way to download files from the HF hub, please consider upgrading to `hf_hub_download`\n",
      "  warnings.warn(\n"
     ]
    },
    {
     "name": "stdout",
     "output_type": "stream",
     "text": [
      "2023-01-19 21:16:40,049 loading file C:\\Users\\melis\\.flair\\models\\ner-english\\4f4cdab26f24cb98b732b389e6cebc646c36f54cfd6e0b7d3b90b25656e4262f.8baa8ae8795f4df80b28e7f7b61d788ecbb057d1dc85aacb316f1bd02837a4a4\n",
      "2023-01-19 21:16:47,911 SequenceTagger predicts: Dictionary with 20 tags: <unk>, O, S-ORG, S-MISC, B-PER, E-PER, S-LOC, B-ORG, E-ORG, I-PER, S-PER, B-MISC, I-MISC, E-MISC, I-ORG, B-LOC, E-LOC, I-LOC, <START>, <STOP>\n"
     ]
    }
   ],
   "source": [
    "from flair.data import Sentence \n",
    "from flair.models import SequenceTagger\n",
    "\n",
    "sentence = Sentence('Seattle .')\n",
    "\n",
    "tagger =SequenceTagger.load('ner')\n",
    "\n",
    "tagger.predict(sentence)"
   ]
  },
  {
   "cell_type": "code",
   "execution_count": 27,
   "id": "0b64b748-4e22-4844-a923-7bfff4ded847",
   "metadata": {},
   "outputs": [
    {
     "name": "stdout",
     "output_type": "stream",
     "text": [
      "Sentence: \"Seattle .\" → [\"Seattle\"/ORG]\n",
      "The following NER tags are found:\n",
      "Span[0:1]: \"Seattle\" → ORG (0.8472)\n"
     ]
    }
   ],
   "source": [
    "print(sentence)\n",
    "print('The following NER tags are found:')\n",
    "for entity in sentence.get_spans('ner'):\n",
    "    print(entity)"
   ]
  },
  {
   "cell_type": "code",
   "execution_count": 20,
   "id": "8ad1f1f1-0754-401e-85b9-d756a6719ff4",
   "metadata": {},
   "outputs": [
    {
     "name": "stdout",
     "output_type": "stream",
     "text": [
      "[{'entity': 'B-LOC', 'score': 0.93351376, 'index': 1, 'word': 'Seattle', 'start': 0, 'end': 7}]\n"
     ]
    }
   ],
   "source": [
    "from transformers import AutoTokenizer, AutoModelForTokenClassification\n",
    "from transformers import pipeline\n",
    "\n",
    "tokenizer = AutoTokenizer.from_pretrained(\"dslim/bert-base-NER\")\n",
    "model = AutoModelForTokenClassification.from_pretrained(\"dslim/bert-base-NER\")\n",
    "\n",
    "nlp = pipeline(\"ner\", model=model, tokenizer=tokenizer)\n",
    "example = \"Seattle\"\n",
    "\n",
    "ner_results = nlp(example)\n",
    "print(ner_results)\n"
   ]
  },
  {
   "cell_type": "code",
   "execution_count": 28,
   "id": "dbfaf151-2c68-451e-92ca-10ccda4280df",
   "metadata": {},
   "outputs": [
    {
     "name": "stdout",
     "output_type": "stream",
     "text": [
      "[]\n"
     ]
    }
   ],
   "source": [
    "tokenizer = AutoTokenizer.from_pretrained(\"dslim/bert-base-NER\")\n",
    "model = AutoModelForTokenClassification.from_pretrained(\"dslim/bert-base-NER\")\n",
    "\n",
    "nlp = pipeline(\"ner\", model=model, tokenizer=tokenizer)\n",
    "example = \"hello\"\n",
    "\n",
    "ner_results = nlp(example)\n",
    "print(ner_results)"
   ]
  },
  {
   "cell_type": "code",
   "execution_count": 31,
   "id": "6a3870d2-1d62-49b3-9a97-33ae19105d7e",
   "metadata": {},
   "outputs": [
    {
     "name": "stdout",
     "output_type": "stream",
     "text": [
      "Noun phrases: ['I', 'survivors', 'Gender-Based violence', 'domestic violence advocacy', 'survivors', 'I', 'the field', 'ofdomestic violence', 'homelessness', 'an increasing community need', \"the 2022 King County auditor's office\", 'the Homicide rates', 'the critical need', 'survivors']\n",
      "Verbs: ['support', 'base', 'offer', 'be', 'increase', '.accorde', 'double', '2021,emphasize', 'fund', 'support']\n",
      "$1.5 million MONEY\n",
      "2017 DATE\n",
      "2022 DATE\n",
      "King County GPE\n",
      "2020 DATE\n"
     ]
    }
   ],
   "source": [
    "import spacy\n",
    "\n",
    "# Load English tokenizer, tagger, parser and NER\n",
    "nlp = spacy.load(\"en_core_web_trf\")\n",
    "\n",
    "# Process whole documents\n",
    "text = (\"I'm here to support $1.5 million for survivors of Gender-Based violence .\"\n",
    "       \"We offer domestic violence advocacy to survivors .. I've been in the field of\"\n",
    "       \"domestic violence and homelessness since 2017 and there's been an increasing community need .\"\n",
    "        \"According to the 2022 King County auditor's office, the Homicide rates doubled in 2020 and 2021,\"\n",
    "        \"emphasizing the critical need to funding to support survivors .\")\n",
    "doc = nlp(text)\n",
    "\n",
    "# Analyze syntax\n",
    "print(\"Noun phrases:\", [chunk.text for chunk in doc.noun_chunks])\n",
    "print(\"Verbs:\", [token.lemma_ for token in doc if token.pos_ == \"VERB\"])\n",
    "\n",
    "# Find named entities, phrases and concepts\n",
    "for entity in doc.ents:\n",
    "    print(entity.text, entity.label_)"
   ]
  },
  {
   "cell_type": "code",
   "execution_count": null,
   "id": "57d896bb-8235-40ef-b5b0-4cdc25acaa59",
   "metadata": {},
   "outputs": [],
   "source": []
  }
 ],
 "metadata": {
  "kernelspec": {
   "display_name": "Python 3 (ipykernel)",
   "language": "python",
   "name": "python3"
  },
  "language_info": {
   "codemirror_mode": {
    "name": "ipython",
    "version": 3
   },
   "file_extension": ".py",
   "mimetype": "text/x-python",
   "name": "python",
   "nbconvert_exporter": "python",
   "pygments_lexer": "ipython3",
   "version": "3.8.3"
  }
 },
 "nbformat": 4,
 "nbformat_minor": 5
}
