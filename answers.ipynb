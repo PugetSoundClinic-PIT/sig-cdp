{
 "cells": [
  {
   "cell_type": "markdown",
   "id": "91cefb07-7b25-41f2-92d7-53797938cd03",
   "metadata": {},
   "source": [
    "# A Few Example Questions"
   ]
  },
  {
   "cell_type": "code",
   "execution_count": 1,
   "id": "cf26aa62-4cbf-47b3-b3b2-965373333dd6",
   "metadata": {},
   "outputs": [
    {
     "data": {
      "application/vnd.jupyter.widget-view+json": {
       "model_id": "3f0519d52f5a4c5a9d20a6d790b58cd5",
       "version_major": 2,
       "version_minor": 0
      },
      "text/plain": [
       "Fetching each model attached to event_ref:   0%|          | 0/5 [00:00<?, ?it/s]"
      ]
     },
     "metadata": {},
     "output_type": "display_data"
    },
    {
     "data": {
      "application/vnd.jupyter.widget-view+json": {
       "model_id": "1921f78b10484bb0aa4b194f9d15f653",
       "version_major": 2,
       "version_minor": 0
      },
      "text/plain": [
       "Fetching transcripts:   0%|          | 0/5 [00:00<?, ?it/s]"
      ]
     },
     "metadata": {},
     "output_type": "display_data"
    },
    {
     "name": "stderr",
     "output_type": "stream",
     "text": [
      "Converting and storing each transcript as a CSV: 5it [00:06,  1.32s/it]\n"
     ]
    }
   ],
   "source": [
    "# Write the code for pulling data from a\n",
    "# single month in a city of your choosing\n",
    "\n",
    "# Be sure to store the transcript files locally\n",
    "# And store them as a CSV\n",
    "\n",
    "# Hint: The CDPInstances object has all the cities we support\n",
    "\n",
    "# IMPORTANT: only pull a month of data, don't want this to take a\n",
    "# long time to download or to fill up your hard drive\n",
    "\n",
    "from cdp_data import CDPInstances, datasets\n",
    "\n",
    "# Pull a month of data\n",
    "seattle_transcripts_oct_2022_to_nov_2022 = datasets.get_session_dataset(\n",
    "    CDPInstances.Seattle,\n",
    "    start_datetime=\"2022-10-01\",\n",
    "    end_datetime=\"2022-11-01\",\n",
    "    store_transcript=True,\n",
    "    store_transcript_as_csv=True,\n",
    ")"
   ]
  },
  {
   "cell_type": "code",
   "execution_count": 2,
   "id": "2237a706-540a-4f97-aad1-8557748a8d3c",
   "metadata": {},
   "outputs": [
    {
     "data": {
      "text/plain": [
       "count    128.000000\n",
       "mean      37.031523\n",
       "std       85.763723\n",
       "min        0.066000\n",
       "25%        0.734000\n",
       "50%        2.369500\n",
       "75%       25.092000\n",
       "max      558.925000\n",
       "Name: duration, dtype: float64"
      ]
     },
     "execution_count": 2,
     "metadata": {},
     "output_type": "execute_result"
    }
   ],
   "source": [
    "# Find the mean, median, and max sentence duration in a random meeting\n",
    "# (just pick a session to look at) from the data you have available\n",
    "\n",
    "import pandas as pd\n",
    "\n",
    "# Pull out a single session\n",
    "example_session = seattle_transcripts_oct_2022_to_nov_2022.iloc[0]\n",
    "\n",
    "# Read sentence data\n",
    "sentences = pd.read_csv(example_session.transcript_as_csv_path)\n",
    "\n",
    "# Calculate all sentence durations\n",
    "sentences[\"duration\"] = sentences.end_time - sentences.start_time\n",
    "\n",
    "# Mean\n",
    "sentences.duration.describe()"
   ]
  },
  {
   "cell_type": "code",
   "execution_count": 3,
   "id": "86916f28-9d1c-4b32-952a-6dd9e3eab8d0",
   "metadata": {},
   "outputs": [
    {
     "data": {
      "text/html": [
       "<div>\n",
       "<style scoped>\n",
       "    .dataframe tbody tr th:only-of-type {\n",
       "        vertical-align: middle;\n",
       "    }\n",
       "\n",
       "    .dataframe tbody tr th {\n",
       "        vertical-align: top;\n",
       "    }\n",
       "\n",
       "    .dataframe thead th {\n",
       "        text-align: right;\n",
       "    }\n",
       "</style>\n",
       "<table border=\"1\" class=\"dataframe\">\n",
       "  <thead>\n",
       "    <tr style=\"text-align: right;\">\n",
       "      <th></th>\n",
       "      <th>session_id</th>\n",
       "      <th>mean</th>\n",
       "      <th>median</th>\n",
       "      <th>max</th>\n",
       "    </tr>\n",
       "  </thead>\n",
       "  <tbody>\n",
       "    <tr>\n",
       "      <th>0</th>\n",
       "      <td>e9bdfa228805</td>\n",
       "      <td>37.031523</td>\n",
       "      <td>2.3695</td>\n",
       "      <td>558.925</td>\n",
       "    </tr>\n",
       "    <tr>\n",
       "      <th>1</th>\n",
       "      <td>9a9ac561e588</td>\n",
       "      <td>7.926381</td>\n",
       "      <td>2.3190</td>\n",
       "      <td>104.471</td>\n",
       "    </tr>\n",
       "    <tr>\n",
       "      <th>2</th>\n",
       "      <td>51141742fef8</td>\n",
       "      <td>16.752074</td>\n",
       "      <td>10.1100</td>\n",
       "      <td>147.514</td>\n",
       "    </tr>\n",
       "    <tr>\n",
       "      <th>3</th>\n",
       "      <td>8e422a197c62</td>\n",
       "      <td>17.611705</td>\n",
       "      <td>10.8110</td>\n",
       "      <td>183.049</td>\n",
       "    </tr>\n",
       "    <tr>\n",
       "      <th>4</th>\n",
       "      <td>2f7a3e667ed9</td>\n",
       "      <td>9.814633</td>\n",
       "      <td>1.8680</td>\n",
       "      <td>127.828</td>\n",
       "    </tr>\n",
       "  </tbody>\n",
       "</table>\n",
       "</div>"
      ],
      "text/plain": [
       "     session_id       mean   median      max\n",
       "0  e9bdfa228805  37.031523   2.3695  558.925\n",
       "1  9a9ac561e588   7.926381   2.3190  104.471\n",
       "2  51141742fef8  16.752074  10.1100  147.514\n",
       "3  8e422a197c62  17.611705  10.8110  183.049\n",
       "4  2f7a3e667ed9   9.814633   1.8680  127.828"
      ]
     },
     "execution_count": 3,
     "metadata": {},
     "output_type": "execute_result"
    }
   ],
   "source": [
    "# OPTIONAL\n",
    "\n",
    "# Get the mean, median, and max sentence durations for all sessions in the dataset\n",
    "# you created and return a new dataframe with those stats\n",
    "# i.e.\n",
    "# session_id | mean | median | max\n",
    "# ...        | ...  | ...    | ...\n",
    "\n",
    "session_sentence_stats = []\n",
    "for _, session in seattle_transcripts_oct_2022_to_nov_2022.iterrows():\n",
    "    sentences = pd.read_csv(session.transcript_as_csv_path)\n",
    "    sentences[\"duration\"] = sentences.end_time - sentences.start_time\n",
    "    stats = sentences.duration.describe()\n",
    "    session_sentence_stats.append({\n",
    "        \"session_id\": session.id,\n",
    "        \"mean\": sentences.duration.mean(),\n",
    "        \"median\": sentences.duration.median(),\n",
    "        \"max\": sentences.duration.max(),\n",
    "    })\n",
    "    \n",
    "pd.DataFrame(session_sentence_stats)"
   ]
  }
 ],
 "metadata": {
  "kernelspec": {
   "display_name": "Python 3 (ipykernel)",
   "language": "python",
   "name": "python3"
  },
  "language_info": {
   "codemirror_mode": {
    "name": "ipython",
    "version": 3
   },
   "file_extension": ".py",
   "mimetype": "text/x-python",
   "name": "python",
   "nbconvert_exporter": "python",
   "pygments_lexer": "ipython3",
   "version": "3.9.15"
  }
 },
 "nbformat": 4,
 "nbformat_minor": 5
}
